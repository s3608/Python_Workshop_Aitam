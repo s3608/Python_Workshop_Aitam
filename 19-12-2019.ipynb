{
 "cells": [
  {
   "cell_type": "markdown",
   "metadata": {},
   "source": [
    "# Python"
   ]
  },
  {
   "cell_type": "markdown",
   "metadata": {},
   "source": [
    "## Aitam Tekkali\n",
    "### ECE Dept"
   ]
  },
  {
   "cell_type": "markdown",
   "metadata": {},
   "source": [
    "* Apssdc\n",
    "    * Trainer\n",
    "        * chaitanya\n",
    "            * cse"
   ]
  },
  {
   "cell_type": "markdown",
   "metadata": {},
   "source": [
    "*Text*\n",
    "**Text**\n",
    "***Text***"
   ]
  },
  {
   "cell_type": "markdown",
   "metadata": {},
   "source": [
    ">1.text1\\\n",
    ">2.text2\\\n",
    ">3.text3"
   ]
  },
  {
   "cell_type": "markdown",
   "metadata": {},
   "source": [
    "[link](https://www.google.com)"
   ]
  },
  {
   "cell_type": "markdown",
   "metadata": {},
   "source": [
    "[python](python.png)\n",
    "<img src=\"python.png\"/>"
   ]
  },
  {
   "cell_type": "code",
   "execution_count": 6,
   "metadata": {},
   "outputs": [
    {
     "name": "stdout",
     "output_type": "stream",
     "text": [
      "college\n"
     ]
    }
   ],
   "source": [
    "aitam = \"college\"\n",
    "print(aitam)"
   ]
  },
  {
   "cell_type": "code",
   "execution_count": 7,
   "metadata": {},
   "outputs": [
    {
     "data": {
      "text/plain": [
       "12"
      ]
     },
     "execution_count": 7,
     "metadata": {},
     "output_type": "execute_result"
    }
   ],
   "source": [
    "a = 12\n",
    "b = c = d = a\n",
    "c"
   ]
  },
  {
   "cell_type": "code",
   "execution_count": 11,
   "metadata": {
    "collapsed": true
   },
   "outputs": [
    {
     "name": "stdout",
     "output_type": "stream",
     "text": [
      "12 12 12 12\n"
     ]
    }
   ],
   "source": [
    "print(a,b,c,d)"
   ]
  },
  {
   "cell_type": "code",
   "execution_count": 30,
   "metadata": {
    "collapsed": true
   },
   "outputs": [
    {
     "name": "stdout",
     "output_type": "stream",
     "text": [
      "<class 'int'>\n",
      "12.0\n",
      "12.0\n",
      "12\n"
     ]
    }
   ],
   "source": [
    "a = 12\n",
    "print(type(a))\n",
    "print(float(a))\n",
    "print(str(float(a)))\n",
    "print(int(float(a)))"
   ]
  },
  {
   "cell_type": "code",
   "execution_count": 42,
   "metadata": {},
   "outputs": [
    {
     "name": "stdout",
     "output_type": "stream",
     "text": [
      "2\n",
      "4\n"
     ]
    }
   ],
   "source": [
    "# Intendation Error \n",
    "a = 5\n",
    "\n",
    "for i in range(1,a+1):\n",
    "    if i%2==0:\n",
    "        print(i)\n",
    "    "
   ]
  },
  {
   "cell_type": "code",
   "execution_count": 61,
   "metadata": {},
   "outputs": [
    {
     "data": {
      "text/plain": [
       "str"
      ]
     },
     "execution_count": 61,
     "metadata": {},
     "output_type": "execute_result"
    }
   ],
   "source": [
    "# String Slicing\n",
    "s = \"chaitanyachinnu\"\n",
    "type(s)"
   ]
  },
  {
   "cell_type": "code",
   "execution_count": 78,
   "metadata": {},
   "outputs": [
    {
     "name": "stdout",
     "output_type": "stream",
     "text": [
      "haitanyachinnu\n",
      "c\n",
      "chaitanyachinn\n",
      "u\n",
      "unnihcaynatiahc\n",
      "atn\n",
      "chaitanyachinnu\n",
      "hia\n",
      "chaitan\n",
      "aynatia\n"
     ]
    }
   ],
   "source": [
    "print(s[1:])# to neglect the first letter of the string\n",
    "print(s[:1])# to print first letter of the string\n",
    "print(s[:-1]) # to neglect last letter \n",
    "print(s[-1:])# to print string with out last letter\n",
    "print(s[::-1])# to reverse the string\n",
    "print(s[2:8:2])# to print from start(2),end(8),step(2)\n",
    "print(s)# to print complete string\n",
    "print(s[1:7:2])# to print from start(1),end(7),step(2)\n",
    "print(s[:7:1])# to print from start(0),end(7),step(1)\n",
    "print(s[8:1:-1])# to print reverse of string upto end(8)"
   ]
  },
  {
   "cell_type": "code",
   "execution_count": null,
   "metadata": {},
   "outputs": [],
   "source": []
  }
 ],
 "metadata": {
  "kernelspec": {
   "display_name": "Python 3",
   "language": "python",
   "name": "python3"
  },
  "language_info": {
   "codemirror_mode": {
    "name": "ipython",
    "version": 3
   },
   "file_extension": ".py",
   "mimetype": "text/x-python",
   "name": "python",
   "nbconvert_exporter": "python",
   "pygments_lexer": "ipython3",
   "version": "3.7.3"
  }
 },
 "nbformat": 4,
 "nbformat_minor": 2
}
